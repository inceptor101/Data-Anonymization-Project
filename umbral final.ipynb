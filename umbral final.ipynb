{
 "cells": [
  {
   "cell_type": "code",
   "execution_count": 1,
   "id": "aa696100",
   "metadata": {},
   "outputs": [],
   "source": [
    "from umbral import SecretKey, Signer\n",
    "\n",
    "# Generate Umbral keys for Alice.\n",
    "alices_secret_key = SecretKey.random()\n",
    "alices_public_key = alices_secret_key.public_key()\n",
    "\n",
    "alices_signing_key = SecretKey.random()\n",
    "alices_signer = Signer(alices_signing_key)\n",
    "alices_verifying_key = alices_signing_key.public_key()\n",
    "\n",
    "# Generate Umbral keys for Bob.\n",
    "bobs_secret_key = SecretKey.random()\n",
    "bobs_public_key = bobs_secret_key.public_key()"
   ]
  },
  {
   "cell_type": "code",
   "execution_count": 6,
   "id": "4d8445de",
   "metadata": {},
   "outputs": [
    {
     "name": "stdout",
     "output_type": "stream",
     "text": [
      "b'\\xad\\xdfu\\x15\\x8c\\xd0\\xa6\\x1c\\x1e\\xc6\\xb1&Ah\\xc8\\x85\\xbcP\\x1e\\x82\\xcd\\xeb\\xf3\\x95\\xd2\\xed\\xd6E\\xf0J\\xf8\\xa5\\xfe$\\x0f\\xcd\\xd5\\xacoB\\xb7\\x85\\xe8Cp\\x8bT\\x16\\xc8\\x0f\\x071\\xdf\\x83!\\xe6\\xc9G\\x19\\xa4\\xe5!?\\xba\\xdb5sB\\xc4S2\\xf9c&Y>\\x90fX\\xe2\\x93\\xef'\n"
     ]
    }
   ],
   "source": [
    "from umbral import encrypt, decrypt_original\n",
    "\n",
    "# Encrypt data with Alice's public key.\n",
    "plaintext = b'Data anonymization is tool to data breach!'\n",
    "capsule, ciphertext = encrypt(alices_public_key, plaintext)\n",
    "\n",
    "# Decrypt data with Alice's private key.\n",
    "cleartext = decrypt_original(alices_secret_key, capsule, ciphertext)\n",
    "print(ciphertext)"
   ]
  },
  {
   "cell_type": "code",
   "execution_count": 7,
   "id": "db73b2f5",
   "metadata": {},
   "outputs": [],
   "source": [
    "from umbral import generate_kfrags\n",
    "\n",
    "# Alice generates \"M of N\" re-encryption key fragments (or \"KFrags\") for Bob.\n",
    "# In this example, 10 out of 20.\n",
    "kfrags = generate_kfrags(delegating_sk=alices_secret_key,\n",
    "                         receiving_pk=bobs_public_key,\n",
    "                         signer=alices_signer,\n",
    "                         threshold=10,\n",
    "                         shares=20)"
   ]
  },
  {
   "cell_type": "code",
   "execution_count": 8,
   "id": "f28fd2dd",
   "metadata": {},
   "outputs": [],
   "source": [
    "from umbral import reencrypt\n",
    "\n",
    "# Several Ursulas perform re-encryption, and Bob collects the resulting `cfrags`.\n",
    "cfrags = list()           # Bob's cfrag collection\n",
    "for kfrag in kfrags[:10]:\n",
    "    cfrag = reencrypt(capsule=capsule, kfrag=kfrag)\n",
    "    cfrags.append(cfrag)    # Bob collects a cfrag"
   ]
  },
  {
   "cell_type": "code",
   "execution_count": 9,
   "id": "5e621d58",
   "metadata": {},
   "outputs": [
    {
     "name": "stdout",
     "output_type": "stream",
     "text": [
      "b'Data anonymization is tool to data breach!'\n"
     ]
    }
   ],
   "source": [
    "from umbral import decrypt_reencrypted\n",
    "\n",
    "bob_cleartext = decrypt_reencrypted(receiving_sk=bobs_secret_key,\n",
    "                                        delegating_pk=alices_public_key,\n",
    "                                        capsule=capsule,\n",
    "                                        verified_cfrags=cfrags,\n",
    "                                        ciphertext=ciphertext)\n",
    "assert bob_cleartext == plaintext\n",
    "print(bob_cleartext)"
   ]
  },
  {
   "cell_type": "code",
   "execution_count": null,
   "id": "87a31df2",
   "metadata": {},
   "outputs": [],
   "source": []
  }
 ],
 "metadata": {
  "kernelspec": {
   "display_name": "Python 3 (ipykernel)",
   "language": "python",
   "name": "python3"
  },
  "language_info": {
   "codemirror_mode": {
    "name": "ipython",
    "version": 3
   },
   "file_extension": ".py",
   "mimetype": "text/x-python",
   "name": "python",
   "nbconvert_exporter": "python",
   "pygments_lexer": "ipython3",
   "version": "3.8.12"
  }
 },
 "nbformat": 4,
 "nbformat_minor": 5
}
